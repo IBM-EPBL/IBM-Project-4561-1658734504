{
 "cells": [
  {
   "cell_type": "code",
   "execution_count": 1,
   "id": "75e43788",
   "metadata": {},
   "outputs": [],
   "source": [
    "from cloudant.client import  Cloudant"
   ]
  },
  {
   "cell_type": "code",
   "execution_count": 2,
   "id": "d2eaf15e",
   "metadata": {},
   "outputs": [],
   "source": [
    "client=Cloudant.iam('username','apikey',connect=True)"
   ]
  },
  {
   "cell_type": "code",
   "execution_count": 3,
   "id": "49831948",
   "metadata": {},
   "outputs": [],
   "source": [
    "my_database=client.create_database('my_database_query')"
   ]
  },
  {
   "cell_type": "code",
   "execution_count": null,
   "id": "aa6ef3e4",
   "metadata": {},
   "outputs": [],
   "source": []
  }
 ],
 "metadata": {
  "kernelspec": {
   "display_name": "Python 3 (ipykernel)",
   "language": "python",
   "name": "python3"
  },
  "language_info": {
   "codemirror_mode": {
    "name": "ipython",
    "version": 3
   },
   "file_extension": ".py",
   "mimetype": "text/x-python",
   "name": "python",
   "nbconvert_exporter": "python",
   "pygments_lexer": "ipython3",
   "version": "3.9.12"
  }
 },
 "nbformat": 4,
 "nbformat_minor": 5
}
