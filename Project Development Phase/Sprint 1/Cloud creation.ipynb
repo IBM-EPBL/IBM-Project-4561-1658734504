{
 "cells": [
  {
   "cell_type": "code",
   "execution_count": 4,
   "id": "862cadc2",
   "metadata": {},
   "outputs": [],
   "source": [
    "from cloudant.client import  Cloudant"
   ]
  },
  {
   "cell_type": "code",
   "execution_count": 2,
   "id": "90d78c0a",
   "metadata": {},
   "outputs": [
    {
     "name": "stdout",
     "output_type": "stream",
     "text": [
      "Collecting cloudantNote: you may need to restart the kernel to use updated packages.\n",
      "  Downloading cloudant-2.15.0-py3-none-any.whl (80 kB)\n",
      "Requirement already satisfied: requests<3.0.0,>=2.7.0 in d:\\anaconda3\\lib\\site-packages (from cloudant) (2.27.1)\n",
      "Requirement already satisfied: idna<4,>=2.5 in d:\\anaconda3\\lib\\site-packages (from requests<3.0.0,>=2.7.0->cloudant) (3.3)\n",
      "Requirement already satisfied: certifi>=2017.4.17 in d:\\anaconda3\\lib\\site-packages (from requests<3.0.0,>=2.7.0->cloudant) (2021.10.8)\n",
      "Requirement already satisfied: charset-normalizer~=2.0.0 in d:\\anaconda3\\lib\\site-packages (from requests<3.0.0,>=2.7.0->cloudant) (2.0.4)\n",
      "Requirement already satisfied: urllib3<1.27,>=1.21.1 in d:\\anaconda3\\lib\\site-packages (from requests<3.0.0,>=2.7.0->cloudant) (1.26.9)\n",
      "Installing collected packages: cloudant\n",
      "Successfully installed cloudant-2.15.0\n",
      "\n"
     ]
    }
   ],
   "source": [
    "pip install cloudant"
   ]
  },
  {
   "cell_type": "code",
   "execution_count": 5,
   "id": "0c353550",
   "metadata": {},
   "outputs": [],
   "source": [
    "client=Cloudant.iam('username','apikey',connect=True)"
   ]
  },
  {
   "cell_type": "code",
   "execution_count": 6,
   "id": "1fe2b0eb",
   "metadata": {},
   "outputs": [],
   "source": [
    "my_database=client.create_database('my_database')"
   ]
  },
  {
   "cell_type": "code",
   "execution_count": null,
   "id": "7ad00b6d",
   "metadata": {},
   "outputs": [],
   "source": []
  }
 ],
 "metadata": {
  "kernelspec": {
   "display_name": "Python 3 (ipykernel)",
   "language": "python",
   "name": "python3"
  },
  "language_info": {
   "codemirror_mode": {
    "name": "ipython",
    "version": 3
   },
   "file_extension": ".py",
   "mimetype": "text/x-python",
   "name": "python",
   "nbconvert_exporter": "python",
   "pygments_lexer": "ipython3",
   "version": "3.9.12"
  }
 },
 "nbformat": 4,
 "nbformat_minor": 5
}
