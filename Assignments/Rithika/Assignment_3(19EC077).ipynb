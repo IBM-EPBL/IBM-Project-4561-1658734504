{
 "cells": [
  {
   "cell_type": "code",
   "execution_count": 1,
   "id": "6393819a",
   "metadata": {},
   "outputs": [],
   "source": [
    "import numpy as np\n",
    "import pandas as pd"
   ]
  },
  {
   "cell_type": "code",
   "execution_count": 2,
   "id": "726565b6",
   "metadata": {},
   "outputs": [],
   "source": [
    "from tensorflow.keras.models import Sequential\n",
    "from tensorflow.keras.layers import Dense\n",
    "from tensorflow.keras.layers import Convolution2D\n",
    "from tensorflow.keras.layers import MaxPooling2D\n",
    "from tensorflow.keras.layers import Flatten"
   ]
  },
  {
   "cell_type": "code",
   "execution_count": 3,
   "id": "8e7672a8",
   "metadata": {},
   "outputs": [],
   "source": [
    "from tensorflow.keras.preprocessing.image import ImageDataGenerator"
   ]
  },
  {
   "cell_type": "code",
   "execution_count": 4,
   "id": "74b1e474",
   "metadata": {},
   "outputs": [],
   "source": [
    "train_data=ImageDataGenerator(rescale=1./255,shear_range=0.2,zoom_range=0.2,horizontal_flip=True,vertical_flip=True)\n",
    "test_data=ImageDataGenerator(rescale=1./255)"
   ]
  },
  {
   "cell_type": "code",
   "execution_count": 5,
   "id": "c727504d",
   "metadata": {},
   "outputs": [],
   "source": [
    "import zipfile as zf\n",
    "\n",
    "files = zf.ZipFile(\"Flowers-Dataset.zip\",'r')\n",
    "files.extractall()\n",
    "files.close()"
   ]
  },
  {
   "cell_type": "code",
   "execution_count": 6,
   "id": "7dc9657e",
   "metadata": {},
   "outputs": [
    {
     "name": "stdout",
     "output_type": "stream",
     "text": [
      "D:\\New folder\n"
     ]
    }
   ],
   "source": [
    "cd D:\\New folder"
   ]
  },
  {
   "cell_type": "code",
   "execution_count": 7,
   "id": "c1e56f6c",
   "metadata": {},
   "outputs": [
    {
     "name": "stdout",
     "output_type": "stream",
     "text": [
      " Volume in drive D is Work\n",
      " Volume Serial Number is 227B-6FDB\n",
      "\n",
      " Directory of D:\\New folder\n",
      "\n",
      "07-10-2022  15:51    <DIR>          .\n",
      "07-10-2022  15:51    <DIR>          ..\n",
      "07-10-2022  15:39    <DIR>          data\n",
      "07-10-2022  15:51        37,110,944 flowers.h5\n",
      "07-10-2022  09:28       235,663,188 Flowers-Dataset.zip\n",
      "               2 File(s)    272,774,132 bytes\n",
      "               3 Dir(s)  499,458,633,728 bytes free\n"
     ]
    }
   ],
   "source": [
    "ls"
   ]
  },
  {
   "cell_type": "code",
   "execution_count": 8,
   "id": "85936abb",
   "metadata": {},
   "outputs": [],
   "source": [
    "import glob\n",
    "import zipfile"
   ]
  },
  {
   "cell_type": "code",
   "execution_count": 9,
   "id": "cacc828a",
   "metadata": {},
   "outputs": [],
   "source": [
    "files = glob.glob('Flowers-Dataset.zip')"
   ]
  },
  {
   "cell_type": "code",
   "execution_count": 10,
   "id": "de9b211e",
   "metadata": {},
   "outputs": [
    {
     "data": {
      "text/plain": [
       "['Flowers-Dataset.zip']"
      ]
     },
     "execution_count": 10,
     "metadata": {},
     "output_type": "execute_result"
    }
   ],
   "source": [
    "files"
   ]
  },
  {
   "cell_type": "code",
   "execution_count": 11,
   "id": "87b43708",
   "metadata": {},
   "outputs": [
    {
     "name": "stdout",
     "output_type": "stream",
     "text": [
      "Unzipping: Flowers-Dataset.zip\n"
     ]
    }
   ],
   "source": [
    "for file in files:\n",
    "    print('Unzipping:',file)\n",
    "\n",
    "    with zipfile.ZipFile(file, 'r') as zip_ref:\n",
    "        zip_ref.extractall('data/raw')"
   ]
  },
  {
   "cell_type": "code",
   "execution_count": 12,
   "id": "1c5f71e0",
   "metadata": {},
   "outputs": [
    {
     "data": {
      "text/plain": [
       "'Flowers-Dataset.zip'"
      ]
     },
     "execution_count": 12,
     "metadata": {},
     "output_type": "execute_result"
    }
   ],
   "source": [
    "file"
   ]
  },
  {
   "cell_type": "code",
   "execution_count": 13,
   "id": "5fa63e23",
   "metadata": {},
   "outputs": [],
   "source": [
    "from tensorflow.keras.preprocessing.image import ImageDataGenerator"
   ]
  },
  {
   "cell_type": "code",
   "execution_count": 15,
   "id": "0ab65315",
   "metadata": {},
   "outputs": [],
   "source": [
    "train_datagen= ImageDataGenerator(rescale=1./255,zoom_range = 0.2,horizontal_flip =True,vertical_flip =False)"
   ]
  },
  {
   "cell_type": "code",
   "execution_count": 16,
   "id": "a51e6e58",
   "metadata": {},
   "outputs": [],
   "source": [
    "test_datagen = ImageDataGenerator(rescale=1./255)"
   ]
  },
  {
   "cell_type": "code",
   "execution_count": 17,
   "id": "81b27cae",
   "metadata": {},
   "outputs": [
    {
     "name": "stdout",
     "output_type": "stream",
     "text": [
      "Found 0 images belonging to 0 classes.\n"
     ]
    }
   ],
   "source": [
    "x_train = train = train_datagen.flow_from_directory(r'D:\\New folder\\data\\raw\\flowers\\daisy',target_size = (10,10),class_mode ='categorical',batch_size=10)"
   ]
  },
  {
   "cell_type": "code",
   "execution_count": 18,
   "id": "41e6dfdd",
   "metadata": {},
   "outputs": [
    {
     "name": "stdout",
     "output_type": "stream",
     "text": [
      "Found 0 images belonging to 0 classes.\n"
     ]
    }
   ],
   "source": [
    "x_test = test_datagen.flow_from_directory(r'D:\\New folder\\data\\raw\\flowers\\dandelion',target_size = (1,5),class_mode ='categorical',batch_size=10)"
   ]
  },
  {
   "cell_type": "code",
   "execution_count": 19,
   "id": "75fee961",
   "metadata": {},
   "outputs": [
    {
     "data": {
      "text/plain": [
       "{}"
      ]
     },
     "execution_count": 19,
     "metadata": {},
     "output_type": "execute_result"
    }
   ],
   "source": [
    "x_train.class_indices"
   ]
  },
  {
   "cell_type": "code",
   "execution_count": 20,
   "id": "e1cfed1d",
   "metadata": {},
   "outputs": [],
   "source": [
    "from tensorflow.keras.models import Sequential"
   ]
  },
  {
   "cell_type": "code",
   "execution_count": 21,
   "id": "88d46645",
   "metadata": {},
   "outputs": [],
   "source": [
    "from tensorflow.keras.layers import Dense,Convolution2D,MaxPooling2D,Flatten"
   ]
  },
  {
   "cell_type": "code",
   "execution_count": 22,
   "id": "0b89b6b6",
   "metadata": {},
   "outputs": [],
   "source": [
    "model= Sequential()"
   ]
  },
  {
   "cell_type": "code",
   "execution_count": 23,
   "id": "3f3b8ed5",
   "metadata": {},
   "outputs": [],
   "source": [
    "model.add(Convolution2D(32,(3,3),input_shape=(64,64,3),activation = 'relu')) "
   ]
  },
  {
   "cell_type": "code",
   "execution_count": 24,
   "id": "bc451321",
   "metadata": {},
   "outputs": [],
   "source": [
    "model.add(MaxPooling2D(pool_size = (2,2)))"
   ]
  },
  {
   "cell_type": "code",
   "execution_count": 25,
   "id": "7ad9f68c",
   "metadata": {},
   "outputs": [],
   "source": [
    "model.add(Flatten())"
   ]
  },
  {
   "cell_type": "code",
   "execution_count": 26,
   "id": "eab74cd4",
   "metadata": {},
   "outputs": [
    {
     "name": "stdout",
     "output_type": "stream",
     "text": [
      "Model: \"sequential\"\n",
      "_________________________________________________________________\n",
      " Layer (type)                Output Shape              Param #   \n",
      "=================================================================\n",
      " conv2d (Conv2D)             (None, 62, 62, 32)        896       \n",
      "                                                                 \n",
      " max_pooling2d (MaxPooling2D  (None, 31, 31, 32)       0         \n",
      " )                                                               \n",
      "                                                                 \n",
      " flatten (Flatten)           (None, 30752)             0         \n",
      "                                                                 \n",
      "=================================================================\n",
      "Total params: 896\n",
      "Trainable params: 896\n",
      "Non-trainable params: 0\n",
      "_________________________________________________________________\n"
     ]
    }
   ],
   "source": [
    "model.summary()"
   ]
  },
  {
   "cell_type": "code",
   "execution_count": 27,
   "id": "35702b61",
   "metadata": {},
   "outputs": [
    {
     "data": {
      "text/plain": [
       "896"
      ]
     },
     "execution_count": 27,
     "metadata": {},
     "output_type": "execute_result"
    }
   ],
   "source": [
    "32*(3*3*3+1)"
   ]
  },
  {
   "cell_type": "code",
   "execution_count": 28,
   "id": "54190976",
   "metadata": {},
   "outputs": [],
   "source": [
    "model.add(Dense(300, activation = 'relu'))\n",
    "model.add(Dense(150,activation ='relu'))"
   ]
  },
  {
   "cell_type": "code",
   "execution_count": 29,
   "id": "b340ce6a",
   "metadata": {},
   "outputs": [],
   "source": [
    "model.add(Dense(4,activation='softmax'))"
   ]
  },
  {
   "cell_type": "code",
   "execution_count": 30,
   "id": "e9c4a27b",
   "metadata": {},
   "outputs": [],
   "source": [
    "model.compile(loss='categorical_crossentropy', optimizer='adam',metrics=['accuracy'])"
   ]
  },
  {
   "cell_type": "code",
   "execution_count": 31,
   "id": "8b2cbdcf",
   "metadata": {},
   "outputs": [
    {
     "data": {
      "text/plain": [
       "0"
      ]
     },
     "execution_count": 31,
     "metadata": {},
     "output_type": "execute_result"
    }
   ],
   "source": [
    "len(x_train)"
   ]
  },
  {
   "cell_type": "code",
   "execution_count": 32,
   "id": "29344d12",
   "metadata": {},
   "outputs": [
    {
     "data": {
      "text/plain": [
       "51.583333333333336"
      ]
     },
     "execution_count": 32,
     "metadata": {},
     "output_type": "execute_result"
    }
   ],
   "source": [
    "1238/24"
   ]
  },
  {
   "cell_type": "code",
   "execution_count": 33,
   "id": "7569cf0e",
   "metadata": {},
   "outputs": [
    {
     "data": {
      "text/plain": [
       "0"
      ]
     },
     "execution_count": 33,
     "metadata": {},
     "output_type": "execute_result"
    }
   ],
   "source": [
    "len(x_test)"
   ]
  },
  {
   "cell_type": "code",
   "execution_count": 34,
   "id": "67aefef1",
   "metadata": {},
   "outputs": [
    {
     "data": {
      "text/plain": [
       "13.583333333333334"
      ]
     },
     "execution_count": 34,
     "metadata": {},
     "output_type": "execute_result"
    }
   ],
   "source": [
    "326/24"
   ]
  },
  {
   "cell_type": "code",
   "execution_count": 35,
   "id": "78729d89",
   "metadata": {},
   "outputs": [
    {
     "name": "stdout",
     "output_type": "stream",
     "text": [
      " Volume in drive D is Work\n",
      " Volume Serial Number is 227B-6FDB\n",
      "\n",
      " Directory of D:\\New folder\n",
      "\n",
      "07-10-2022  15:51    <DIR>          .\n",
      "07-10-2022  15:51    <DIR>          ..\n",
      "07-10-2022  15:39    <DIR>          data\n",
      "07-10-2022  15:51        37,110,944 flowers.h5\n",
      "07-10-2022  09:28       235,663,188 Flowers-Dataset.zip\n",
      "               2 File(s)    272,774,132 bytes\n",
      "               3 Dir(s)  499,458,633,728 bytes free\n"
     ]
    }
   ],
   "source": [
    "ls"
   ]
  },
  {
   "cell_type": "code",
   "execution_count": 36,
   "id": "df4d5bc6",
   "metadata": {},
   "outputs": [],
   "source": [
    "model.save('flower.h5')"
   ]
  },
  {
   "cell_type": "code",
   "execution_count": 37,
   "id": "ee86522f",
   "metadata": {},
   "outputs": [
    {
     "name": "stdout",
     "output_type": "stream",
     "text": [
      " Volume in drive D is Work\n",
      " Volume Serial Number is 227B-6FDB\n",
      "\n",
      " Directory of D:\\New folder\n",
      "\n",
      "07-10-2022  18:30    <DIR>          .\n",
      "07-10-2022  18:30    <DIR>          ..\n",
      "07-10-2022  15:39    <DIR>          data\n",
      "07-10-2022  18:30        37,110,944 flower.h5\n",
      "07-10-2022  15:51        37,110,944 flowers.h5\n",
      "07-10-2022  09:28       235,663,188 Flowers-Dataset.zip\n",
      "               3 File(s)    309,885,076 bytes\n",
      "               3 Dir(s)  499,421,519,872 bytes free\n"
     ]
    }
   ],
   "source": [
    "ls"
   ]
  },
  {
   "cell_type": "code",
   "execution_count": 38,
   "id": "9bbc2fe2",
   "metadata": {},
   "outputs": [],
   "source": [
    "import numpy as np\n",
    "from tensorflow.keras.models import load_model\n",
    "from tensorflow.keras.preprocessing import image"
   ]
  },
  {
   "cell_type": "code",
   "execution_count": 39,
   "id": "84102027",
   "metadata": {},
   "outputs": [],
   "source": [
    "odel = load_model('flower.h5')"
   ]
  },
  {
   "cell_type": "code",
   "execution_count": 40,
   "id": "3c704d0e",
   "metadata": {},
   "outputs": [
    {
     "data": {
      "text/plain": [
       "'D:\\\\New folder'"
      ]
     },
     "execution_count": 40,
     "metadata": {},
     "output_type": "execute_result"
    }
   ],
   "source": [
    "pwd"
   ]
  },
  {
   "cell_type": "code",
   "execution_count": 41,
   "id": "9c24332a",
   "metadata": {},
   "outputs": [],
   "source": [
    "img = image.load_img(r'D:\\New folder\\data\\raw\\flowers\\daisy\\134409839_71069a95d1_m.jpg')"
   ]
  },
  {
   "cell_type": "code",
   "execution_count": 42,
   "id": "518cfb8f",
   "metadata": {},
   "outputs": [
    {
     "data": {
      "image/png": "[encoded data removed]",
      "text/plain": [
       "<PIL.JpegImagePlugin.JpegImageFile image mode=RGB size=240x222 at 0x1E2AA25BF40>"
      ]
     },
     "execution_count": 42,
     "metadata": {},
     "output_type": "execute_result"
    }
   ],
   "source": [
    "img"
   ]
  },
  {
   "cell_type": "code",
   "execution_count": 43,
   "id": "fa29a901",
   "metadata": {},
   "outputs": [],
   "source": [
    "img = image.load_img(r'D:\\New folder\\data\\raw\\flowers\\daisy\\134409839_71069a95d1_m.jpg',target_size=(64,64))"
   ]
  },
  {
   "cell_type": "code",
   "execution_count": 44,
   "id": "9474e501",
   "metadata": {},
   "outputs": [
    {
     "data": {
      "image/png": "[encoded data removed]",
      "text/plain": [
       "<PIL.Image.Image image mode=RGB size=64x64 at 0x1E2AC79EBE0>"
      ]
     },
     "execution_count": 44,
     "metadata": {},
     "output_type": "execute_result"
    }
   ],
   "source": [
    "img"
   ]
  },
  {
   "cell_type": "code",
   "execution_count": 45,
   "id": "b3b9aff3",
   "metadata": {},
   "outputs": [],
   "source": [
    "x=image.img_to_array(img)"
   ]
  },
  {
   "cell_type": "code",
   "execution_count": 46,
   "id": "c94b052f",
   "metadata": {},
   "outputs": [
    {
     "data": {
      "text/plain": [
       "array([[[ 0.,  3.,  0.],\n",
       "        [ 5., 15.,  6.],\n",
       "        [ 1.,  9.,  0.],\n",
       "        ...,\n",
       "        [44., 51.,  0.],\n",
       "        [ 0.,  0.,  0.],\n",
       "        [ 0.,  0.,  0.]],\n",
       "\n",
       "       [[ 6.,  7.,  1.],\n",
       "        [ 5.,  5.,  7.],\n",
       "        [ 1.,  5.,  8.],\n",
       "        ...,\n",
       "        [ 7.,  3.,  4.],\n",
       "        [ 0.,  1.,  0.],\n",
       "        [ 0.,  0.,  2.]],\n",
       "\n",
       "       [[ 2.,  4.,  1.],\n",
       "        [ 7.,  0.,  1.],\n",
       "        [ 5., 11.,  0.],\n",
       "        ...,\n",
       "        [ 0.,  0.,  0.],\n",
       "        [ 0.,  0.,  0.],\n",
       "        [ 0.,  0.,  0.]],\n",
       "\n",
       "       ...,\n",
       "\n",
       "       [[25., 77., 11.],\n",
       "        [ 9., 35.,  0.],\n",
       "        [ 6.,  1.,  8.],\n",
       "        ...,\n",
       "        [13., 13., 11.],\n",
       "        [ 1.,  1.,  3.],\n",
       "        [27., 28., 23.]],\n",
       "\n",
       "       [[43., 88., 33.],\n",
       "        [ 2.,  0.,  1.],\n",
       "        [ 3.,  1.,  6.],\n",
       "        ...,\n",
       "        [15., 15., 13.],\n",
       "        [ 0.,  0.,  0.],\n",
       "        [ 3.,  3.,  1.]],\n",
       "\n",
       "       [[10., 39.,  8.],\n",
       "        [ 0.,  0.,  2.],\n",
       "        [ 6.,  8.,  3.],\n",
       "        ...,\n",
       "        [16., 18., 15.],\n",
       "        [ 0.,  0.,  0.],\n",
       "        [ 4.,  4.,  6.]]], dtype=float32)"
      ]
     },
     "execution_count": 46,
     "metadata": {},
     "output_type": "execute_result"
    }
   ],
   "source": [
    "x"
   ]
  },
  {
   "cell_type": "code",
   "execution_count": 47,
   "id": "d2bf2f95",
   "metadata": {},
   "outputs": [
    {
     "data": {
      "text/plain": [
       "(64, 64, 3)"
      ]
     },
     "execution_count": 47,
     "metadata": {},
     "output_type": "execute_result"
    }
   ],
   "source": [
    "x.shape"
   ]
  },
  {
   "cell_type": "code",
   "execution_count": 48,
   "id": "784dc20c",
   "metadata": {},
   "outputs": [],
   "source": [
    "x=np.expand_dims(x,axis=0)"
   ]
  },
  {
   "cell_type": "code",
   "execution_count": 49,
   "id": "62686f9c",
   "metadata": {},
   "outputs": [
    {
     "name": "stdout",
     "output_type": "stream",
     "text": [
      "1/1 [==============================] - 0s 328ms/step\n"
     ]
    }
   ],
   "source": [
    "y=np.argmax(model.predict(x),axis=1)"
   ]
  },
  {
   "cell_type": "code",
   "execution_count": 50,
   "id": "0dd049b1",
   "metadata": {},
   "outputs": [
    {
     "data": {
      "text/plain": [
       "array([1], dtype=int64)"
      ]
     },
     "execution_count": 50,
     "metadata": {},
     "output_type": "execute_result"
    }
   ],
   "source": [
    "y"
   ]
  },
  {
   "cell_type": "code",
   "execution_count": 51,
   "id": "b9c25305",
   "metadata": {},
   "outputs": [
    {
     "data": {
      "text/plain": [
       "{}"
      ]
     },
     "execution_count": 51,
     "metadata": {},
     "output_type": "execute_result"
    }
   ],
   "source": [
    "x_train.class_indices"
   ]
  },
  {
   "cell_type": "code",
   "execution_count": 52,
   "id": "f4650e51",
   "metadata": {},
   "outputs": [],
   "source": [
    "index = ['daisy','dandelion','rose','sunflower','tulip']"
   ]
  },
  {
   "cell_type": "code",
   "execution_count": 53,
   "id": "458efbc3",
   "metadata": {},
   "outputs": [
    {
     "data": {
      "text/plain": [
       "'dandelion'"
      ]
     },
     "execution_count": 53,
     "metadata": {},
     "output_type": "execute_result"
    }
   ],
   "source": [
    "index[y[0]]"
   ]
  },
  {
   "cell_type": "code",
   "execution_count": 54,
   "id": "0a00225f",
   "metadata": {},
   "outputs": [
    {
     "data": {
      "text/plain": [
       "'sunflower'"
      ]
     },
     "execution_count": 54,
     "metadata": {},
     "output_type": "execute_result"
    }
   ],
   "source": [
    "index[3]"
   ]
  },
  {
   "cell_type": "code",
   "execution_count": null,
   "id": "c4e345e1",
   "metadata": {},
   "outputs": [],
   "source": []
  }
 ],
 "metadata": {
  "kernelspec": {
   "display_name": "Python 3 (ipykernel)",
   "language": "python",
   "name": "python3"
  },
  "language_info": {
   "codemirror_mode": {
    "name": "ipython",
    "version": 3
   },
   "file_extension": ".py",
   "mimetype": "text/x-python",
   "name": "python",
   "nbconvert_exporter": "python",
   "pygments_lexer": "ipython3",
   "version": "3.9.12"
  }
 },
 "nbformat": 4,
 "nbformat_minor": 5
}
